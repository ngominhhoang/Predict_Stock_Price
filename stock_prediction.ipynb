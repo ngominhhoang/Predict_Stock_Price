{
 "cells": [
  {
   "cell_type": "code",
   "execution_count": 1,
   "metadata": {},
   "outputs": [],
   "source": [
    "import numpy as np\n",
    "import pandas as pd\n",
    "import datetime\n",
    "\n",
    "%matplotlib inline\n",
    "import matplotlib.pyplot as plt\n",
    "import matplotlib.dates as mdates\n",
    "import seaborn as sns\n",
    "\n",
    "plt.style.use('seaborn-darkgrid')\n",
    "plt.rc('figure', figsize=(16,10))\n",
    "plt.rc('lines', markersize=4)\n",
    "\n",
    "import yfinance as yf\n",
    "\n",
    "from sklearn.linear_model import LinearRegression\n",
    "from sklearn.metrics import mean_squared_error \n",
    "from sklearn.metrics import mean_absolute_error \n"
   ]
  },
  {
   "cell_type": "code",
   "execution_count": 2,
   "metadata": {},
   "outputs": [],
   "source": [
    "import torch\n",
    "import torch.nn as nn\n",
    "import torch.nn.functional as F\n",
    "from torch.optim import SGD, Adam"
   ]
  },
  {
   "cell_type": "markdown",
   "metadata": {},
   "source": [
    "### Get a sample stock price from 2019-01-01 to today"
   ]
  },
  {
   "cell_type": "code",
   "execution_count": 3,
   "metadata": {},
   "outputs": [
    {
     "name": "stdout",
     "output_type": "stream",
     "text": [
      "[*********************100%***********************]  1 of 1 completed\n"
     ]
    },
    {
     "data": {
      "text/html": [
       "<div>\n",
       "<style scoped>\n",
       "    .dataframe tbody tr th:only-of-type {\n",
       "        vertical-align: middle;\n",
       "    }\n",
       "\n",
       "    .dataframe tbody tr th {\n",
       "        vertical-align: top;\n",
       "    }\n",
       "\n",
       "    .dataframe thead th {\n",
       "        text-align: right;\n",
       "    }\n",
       "</style>\n",
       "<table border=\"1\" class=\"dataframe\">\n",
       "  <thead>\n",
       "    <tr style=\"text-align: right;\">\n",
       "      <th></th>\n",
       "      <th>Open</th>\n",
       "      <th>High</th>\n",
       "      <th>Low</th>\n",
       "      <th>Close</th>\n",
       "      <th>Adj Close</th>\n",
       "      <th>Volume</th>\n",
       "    </tr>\n",
       "    <tr>\n",
       "      <th>Date</th>\n",
       "      <th></th>\n",
       "      <th></th>\n",
       "      <th></th>\n",
       "      <th></th>\n",
       "      <th></th>\n",
       "      <th></th>\n",
       "    </tr>\n",
       "  </thead>\n",
       "  <tbody>\n",
       "    <tr>\n",
       "      <th>2018-12-31</th>\n",
       "      <td>158.529999</td>\n",
       "      <td>159.360001</td>\n",
       "      <td>156.479996</td>\n",
       "      <td>157.740005</td>\n",
       "      <td>154.618546</td>\n",
       "      <td>35003500</td>\n",
       "    </tr>\n",
       "    <tr>\n",
       "      <th>2019-01-02</th>\n",
       "      <td>154.889999</td>\n",
       "      <td>158.850006</td>\n",
       "      <td>154.229996</td>\n",
       "      <td>157.919998</td>\n",
       "      <td>154.794983</td>\n",
       "      <td>37039700</td>\n",
       "    </tr>\n",
       "    <tr>\n",
       "      <th>2019-01-03</th>\n",
       "      <td>143.979996</td>\n",
       "      <td>145.720001</td>\n",
       "      <td>142.000000</td>\n",
       "      <td>142.190002</td>\n",
       "      <td>139.376251</td>\n",
       "      <td>91312200</td>\n",
       "    </tr>\n",
       "    <tr>\n",
       "      <th>2019-01-04</th>\n",
       "      <td>144.529999</td>\n",
       "      <td>148.550003</td>\n",
       "      <td>143.800003</td>\n",
       "      <td>148.259995</td>\n",
       "      <td>145.326126</td>\n",
       "      <td>58607100</td>\n",
       "    </tr>\n",
       "    <tr>\n",
       "      <th>2019-01-07</th>\n",
       "      <td>148.699997</td>\n",
       "      <td>148.830002</td>\n",
       "      <td>145.899994</td>\n",
       "      <td>147.929993</td>\n",
       "      <td>145.002686</td>\n",
       "      <td>54777800</td>\n",
       "    </tr>\n",
       "  </tbody>\n",
       "</table>\n",
       "</div>"
      ],
      "text/plain": [
       "                  Open        High         Low       Close   Adj Close  \\\n",
       "Date                                                                     \n",
       "2018-12-31  158.529999  159.360001  156.479996  157.740005  154.618546   \n",
       "2019-01-02  154.889999  158.850006  154.229996  157.919998  154.794983   \n",
       "2019-01-03  143.979996  145.720001  142.000000  142.190002  139.376251   \n",
       "2019-01-04  144.529999  148.550003  143.800003  148.259995  145.326126   \n",
       "2019-01-07  148.699997  148.830002  145.899994  147.929993  145.002686   \n",
       "\n",
       "              Volume  \n",
       "Date                  \n",
       "2018-12-31  35003500  \n",
       "2019-01-02  37039700  \n",
       "2019-01-03  91312200  \n",
       "2019-01-04  58607100  \n",
       "2019-01-07  54777800  "
      ]
     },
     "execution_count": 3,
     "metadata": {},
     "output_type": "execute_result"
    }
   ],
   "source": [
    "# Get the data of the Apple stock (code AAPL)\n",
    "data = yf.download('AAPL','2019-01-01','2020-04-30')\n",
    "data.head()"
   ]
  },
  {
   "cell_type": "code",
   "execution_count": 4,
   "metadata": {},
   "outputs": [
    {
     "data": {
      "text/html": [
       "<div>\n",
       "<style scoped>\n",
       "    .dataframe tbody tr th:only-of-type {\n",
       "        vertical-align: middle;\n",
       "    }\n",
       "\n",
       "    .dataframe tbody tr th {\n",
       "        vertical-align: top;\n",
       "    }\n",
       "\n",
       "    .dataframe thead th {\n",
       "        text-align: right;\n",
       "    }\n",
       "</style>\n",
       "<table border=\"1\" class=\"dataframe\">\n",
       "  <thead>\n",
       "    <tr style=\"text-align: right;\">\n",
       "      <th></th>\n",
       "      <th>Open</th>\n",
       "      <th>High</th>\n",
       "      <th>Low</th>\n",
       "      <th>Close</th>\n",
       "      <th>Adj Close</th>\n",
       "      <th>Volume</th>\n",
       "    </tr>\n",
       "    <tr>\n",
       "      <th>Date</th>\n",
       "      <th></th>\n",
       "      <th></th>\n",
       "      <th></th>\n",
       "      <th></th>\n",
       "      <th></th>\n",
       "      <th></th>\n",
       "    </tr>\n",
       "  </thead>\n",
       "  <tbody>\n",
       "    <tr>\n",
       "      <th>2018-12-31</th>\n",
       "      <td>158.529999</td>\n",
       "      <td>159.360001</td>\n",
       "      <td>156.479996</td>\n",
       "      <td>157.740005</td>\n",
       "      <td>154.618546</td>\n",
       "      <td>35003500</td>\n",
       "    </tr>\n",
       "    <tr>\n",
       "      <th>2019-01-02</th>\n",
       "      <td>154.889999</td>\n",
       "      <td>158.850006</td>\n",
       "      <td>154.229996</td>\n",
       "      <td>157.919998</td>\n",
       "      <td>154.794983</td>\n",
       "      <td>37039700</td>\n",
       "    </tr>\n",
       "    <tr>\n",
       "      <th>2019-01-03</th>\n",
       "      <td>143.979996</td>\n",
       "      <td>145.720001</td>\n",
       "      <td>142.000000</td>\n",
       "      <td>142.190002</td>\n",
       "      <td>139.376251</td>\n",
       "      <td>91312200</td>\n",
       "    </tr>\n",
       "    <tr>\n",
       "      <th>2019-01-04</th>\n",
       "      <td>144.529999</td>\n",
       "      <td>148.550003</td>\n",
       "      <td>143.800003</td>\n",
       "      <td>148.259995</td>\n",
       "      <td>145.326126</td>\n",
       "      <td>58607100</td>\n",
       "    </tr>\n",
       "    <tr>\n",
       "      <th>2019-01-07</th>\n",
       "      <td>148.699997</td>\n",
       "      <td>148.830002</td>\n",
       "      <td>145.899994</td>\n",
       "      <td>147.929993</td>\n",
       "      <td>145.002686</td>\n",
       "      <td>54777800</td>\n",
       "    </tr>\n",
       "    <tr>\n",
       "      <th>...</th>\n",
       "      <td>...</td>\n",
       "      <td>...</td>\n",
       "      <td>...</td>\n",
       "      <td>...</td>\n",
       "      <td>...</td>\n",
       "      <td>...</td>\n",
       "    </tr>\n",
       "    <tr>\n",
       "      <th>2020-04-23</th>\n",
       "      <td>275.869995</td>\n",
       "      <td>281.750000</td>\n",
       "      <td>274.869995</td>\n",
       "      <td>275.029999</td>\n",
       "      <td>274.287506</td>\n",
       "      <td>31203600</td>\n",
       "    </tr>\n",
       "    <tr>\n",
       "      <th>2020-04-24</th>\n",
       "      <td>277.200012</td>\n",
       "      <td>283.010010</td>\n",
       "      <td>277.000000</td>\n",
       "      <td>282.970001</td>\n",
       "      <td>282.206085</td>\n",
       "      <td>31627200</td>\n",
       "    </tr>\n",
       "    <tr>\n",
       "      <th>2020-04-27</th>\n",
       "      <td>281.799988</td>\n",
       "      <td>284.540009</td>\n",
       "      <td>279.950012</td>\n",
       "      <td>283.170013</td>\n",
       "      <td>282.405548</td>\n",
       "      <td>29271900</td>\n",
       "    </tr>\n",
       "    <tr>\n",
       "      <th>2020-04-28</th>\n",
       "      <td>285.079987</td>\n",
       "      <td>285.829987</td>\n",
       "      <td>278.200012</td>\n",
       "      <td>278.579987</td>\n",
       "      <td>277.827911</td>\n",
       "      <td>28001200</td>\n",
       "    </tr>\n",
       "    <tr>\n",
       "      <th>2020-04-29</th>\n",
       "      <td>284.730011</td>\n",
       "      <td>289.670013</td>\n",
       "      <td>283.890015</td>\n",
       "      <td>287.730011</td>\n",
       "      <td>286.953247</td>\n",
       "      <td>34320200</td>\n",
       "    </tr>\n",
       "  </tbody>\n",
       "</table>\n",
       "<p>335 rows × 6 columns</p>\n",
       "</div>"
      ],
      "text/plain": [
       "                  Open        High         Low       Close   Adj Close  \\\n",
       "Date                                                                     \n",
       "2018-12-31  158.529999  159.360001  156.479996  157.740005  154.618546   \n",
       "2019-01-02  154.889999  158.850006  154.229996  157.919998  154.794983   \n",
       "2019-01-03  143.979996  145.720001  142.000000  142.190002  139.376251   \n",
       "2019-01-04  144.529999  148.550003  143.800003  148.259995  145.326126   \n",
       "2019-01-07  148.699997  148.830002  145.899994  147.929993  145.002686   \n",
       "...                ...         ...         ...         ...         ...   \n",
       "2020-04-23  275.869995  281.750000  274.869995  275.029999  274.287506   \n",
       "2020-04-24  277.200012  283.010010  277.000000  282.970001  282.206085   \n",
       "2020-04-27  281.799988  284.540009  279.950012  283.170013  282.405548   \n",
       "2020-04-28  285.079987  285.829987  278.200012  278.579987  277.827911   \n",
       "2020-04-29  284.730011  289.670013  283.890015  287.730011  286.953247   \n",
       "\n",
       "              Volume  \n",
       "Date                  \n",
       "2018-12-31  35003500  \n",
       "2019-01-02  37039700  \n",
       "2019-01-03  91312200  \n",
       "2019-01-04  58607100  \n",
       "2019-01-07  54777800  \n",
       "...              ...  \n",
       "2020-04-23  31203600  \n",
       "2020-04-24  31627200  \n",
       "2020-04-27  29271900  \n",
       "2020-04-28  28001200  \n",
       "2020-04-29  34320200  \n",
       "\n",
       "[335 rows x 6 columns]"
      ]
     },
     "execution_count": 4,
     "metadata": {},
     "output_type": "execute_result"
    }
   ],
   "source": [
    "data"
   ]
  },
  {
   "cell_type": "markdown",
   "metadata": {},
   "source": [
    "### Extract the Close price column to plot"
   ]
  },
  {
   "cell_type": "code",
   "execution_count": 5,
   "metadata": {},
   "outputs": [
    {
     "data": {
      "text/plain": [
       "False"
      ]
     },
     "execution_count": 5,
     "metadata": {},
     "output_type": "execute_result"
    }
   ],
   "source": [
    "df = pd.DataFrame(data, columns=['Close'])\n",
    "df = df.reset_index()\n",
    "df.isna().values.any() # check for NaN"
   ]
  },
  {
   "cell_type": "code",
   "execution_count": 6,
   "metadata": {},
   "outputs": [
    {
     "name": "stderr",
     "output_type": "stream",
     "text": [
      "C:\\Users\\Admin\\Anaconda3\\lib\\site-packages\\pandas\\plotting\\_matplotlib\\converter.py:103: FutureWarning: Using an implicitly registered datetime converter for a matplotlib plotting method. The converter was registered by pandas on import. Future versions of pandas will require you to explicitly register matplotlib converters.\n",
      "\n",
      "To register the converters:\n",
      "\t>>> from pandas.plotting import register_matplotlib_converters\n",
      "\t>>> register_matplotlib_converters()\n",
      "  warnings.warn(msg, FutureWarning)\n"
     ]
    },
    {
     "data": {
      "image/png": "[encoded data removed]",
      "text/plain": [
       "<Figure size 432x288 with 1 Axes>"
      ]
     },
     "metadata": {
      "needs_background": "light"
     },
     "output_type": "display_data"
    }
   ],
   "source": [
    "# Import matplotlib package for date plots\n",
    "\n",
    "months = mdates.MonthLocator() # Get every year\n",
    "dateFmt = mdates.DateFormatter('%Y-%m') # Set year format\n",
    "\n",
    "# Create subplots to plot graph and control axes\n",
    "fig, ax = plt.subplots()\n",
    "ax.plot(df['Date'], df['Close'])\n",
    "\n",
    "# Format the ticks\n",
    "ax.xaxis.set_major_locator(months)\n",
    "ax.xaxis.set_major_formatter(dateFmt)\n",
    "\n",
    "# Set figure title\n",
    "plt.title('Apple Close Stock Price History [2019 - 2020]', fontsize=16)\n",
    "# Set x label\n",
    "plt.xlabel('Date', fontsize=14)\n",
    "# Set y label\n",
    "plt.ylabel('Closing Stock Price in $', fontsize=14)\n",
    "\n",
    "# Rotate and align the x labels\n",
    "fig.autofmt_xdate()\n",
    "\n",
    "# Show plot\n",
    "plt.show()"
   ]
  },
  {
   "cell_type": "markdown",
   "metadata": {},
   "source": [
    "### Get stock of Apple, Google, Microsoft, Amazon, Facebook via Yahoo Finance"
   ]
  },
  {
   "cell_type": "code",
   "execution_count": 7,
   "metadata": {},
   "outputs": [
    {
     "name": "stdout",
     "output_type": "stream",
     "text": [
      "[*********************100%***********************]  1 of 1 completed\n",
      "[*********************100%***********************]  1 of 1 completed\n",
      "[*********************100%***********************]  1 of 1 completed\n",
      "[*********************100%***********************]  1 of 1 completed\n",
      "[*********************100%***********************]  1 of 1 completed\n"
     ]
    }
   ],
   "source": [
    "def get_close_stock_price(codes, start_date='2009-01-01', end_date='2020-04-30'):\n",
    "    data = { code : yf.download(code, start_date, end_date) for code in codes }\n",
    "    #print(data)\n",
    "    data = { key : pd.DataFrame(value, columns=['Close']).rename(columns={'Close': f'{key}'}) for key, value in data.items() }\n",
    "    df = None\n",
    "    #print(data)\n",
    "    for key, value in data.items():\n",
    "        if df is None:\n",
    "            df = value\n",
    "        else:\n",
    "            df = df.merge(value, left_index=True, right_index=True)\n",
    "    return df\n",
    "\n",
    "df = get_close_stock_price(['AAPL', 'GOOGL', 'MSFT', 'AMZN', 'FB'])\n",
    "df.to_csv('data/close_price_big_5.csv')"
   ]
  },
  {
   "cell_type": "code",
   "execution_count": 8,
   "metadata": {},
   "outputs": [
    {
     "data": {
      "text/html": [
       "<div>\n",
       "<style scoped>\n",
       "    .dataframe tbody tr th:only-of-type {\n",
       "        vertical-align: middle;\n",
       "    }\n",
       "\n",
       "    .dataframe tbody tr th {\n",
       "        vertical-align: top;\n",
       "    }\n",
       "\n",
       "    .dataframe thead th {\n",
       "        text-align: right;\n",
       "    }\n",
       "</style>\n",
       "<table border=\"1\" class=\"dataframe\">\n",
       "  <thead>\n",
       "    <tr style=\"text-align: right;\">\n",
       "      <th></th>\n",
       "      <th>AAPL</th>\n",
       "      <th>GOOGL</th>\n",
       "      <th>MSFT</th>\n",
       "      <th>AMZN</th>\n",
       "      <th>FB</th>\n",
       "    </tr>\n",
       "    <tr>\n",
       "      <th>Date</th>\n",
       "      <th></th>\n",
       "      <th></th>\n",
       "      <th></th>\n",
       "      <th></th>\n",
       "      <th></th>\n",
       "    </tr>\n",
       "  </thead>\n",
       "  <tbody>\n",
       "    <tr>\n",
       "      <th>2012-05-18</th>\n",
       "      <td>75.768570</td>\n",
       "      <td>300.500488</td>\n",
       "      <td>29.270000</td>\n",
       "      <td>213.850006</td>\n",
       "      <td>38.230000</td>\n",
       "    </tr>\n",
       "    <tr>\n",
       "      <th>2012-05-21</th>\n",
       "      <td>80.182854</td>\n",
       "      <td>307.362366</td>\n",
       "      <td>29.750000</td>\n",
       "      <td>218.110001</td>\n",
       "      <td>34.029999</td>\n",
       "    </tr>\n",
       "    <tr>\n",
       "      <th>2012-05-22</th>\n",
       "      <td>79.567146</td>\n",
       "      <td>300.700714</td>\n",
       "      <td>29.760000</td>\n",
       "      <td>215.330002</td>\n",
       "      <td>31.000000</td>\n",
       "    </tr>\n",
       "    <tr>\n",
       "      <th>2012-05-23</th>\n",
       "      <td>81.508568</td>\n",
       "      <td>305.035034</td>\n",
       "      <td>29.110001</td>\n",
       "      <td>217.279999</td>\n",
       "      <td>32.000000</td>\n",
       "    </tr>\n",
       "    <tr>\n",
       "      <th>2012-05-24</th>\n",
       "      <td>80.760002</td>\n",
       "      <td>302.132141</td>\n",
       "      <td>29.070000</td>\n",
       "      <td>215.240005</td>\n",
       "      <td>33.029999</td>\n",
       "    </tr>\n",
       "    <tr>\n",
       "      <th>...</th>\n",
       "      <td>...</td>\n",
       "      <td>...</td>\n",
       "      <td>...</td>\n",
       "      <td>...</td>\n",
       "      <td>...</td>\n",
       "    </tr>\n",
       "    <tr>\n",
       "      <th>2020-04-23</th>\n",
       "      <td>275.029999</td>\n",
       "      <td>1271.170044</td>\n",
       "      <td>171.419998</td>\n",
       "      <td>2399.449951</td>\n",
       "      <td>185.130005</td>\n",
       "    </tr>\n",
       "    <tr>\n",
       "      <th>2020-04-24</th>\n",
       "      <td>282.970001</td>\n",
       "      <td>1276.599976</td>\n",
       "      <td>174.550003</td>\n",
       "      <td>2410.219971</td>\n",
       "      <td>190.070007</td>\n",
       "    </tr>\n",
       "    <tr>\n",
       "      <th>2020-04-27</th>\n",
       "      <td>283.170013</td>\n",
       "      <td>1270.859985</td>\n",
       "      <td>174.050003</td>\n",
       "      <td>2376.000000</td>\n",
       "      <td>187.500000</td>\n",
       "    </tr>\n",
       "    <tr>\n",
       "      <th>2020-04-28</th>\n",
       "      <td>278.579987</td>\n",
       "      <td>1232.589966</td>\n",
       "      <td>169.809998</td>\n",
       "      <td>2314.080078</td>\n",
       "      <td>182.910004</td>\n",
       "    </tr>\n",
       "    <tr>\n",
       "      <th>2020-04-29</th>\n",
       "      <td>287.730011</td>\n",
       "      <td>1342.180054</td>\n",
       "      <td>177.429993</td>\n",
       "      <td>2372.709961</td>\n",
       "      <td>194.190002</td>\n",
       "    </tr>\n",
       "  </tbody>\n",
       "</table>\n",
       "<p>1999 rows × 5 columns</p>\n",
       "</div>"
      ],
      "text/plain": [
       "                  AAPL        GOOGL        MSFT         AMZN          FB\n",
       "Date                                                                    \n",
       "2012-05-18   75.768570   300.500488   29.270000   213.850006   38.230000\n",
       "2012-05-21   80.182854   307.362366   29.750000   218.110001   34.029999\n",
       "2012-05-22   79.567146   300.700714   29.760000   215.330002   31.000000\n",
       "2012-05-23   81.508568   305.035034   29.110001   217.279999   32.000000\n",
       "2012-05-24   80.760002   302.132141   29.070000   215.240005   33.029999\n",
       "...                ...          ...         ...          ...         ...\n",
       "2020-04-23  275.029999  1271.170044  171.419998  2399.449951  185.130005\n",
       "2020-04-24  282.970001  1276.599976  174.550003  2410.219971  190.070007\n",
       "2020-04-27  283.170013  1270.859985  174.050003  2376.000000  187.500000\n",
       "2020-04-28  278.579987  1232.589966  169.809998  2314.080078  182.910004\n",
       "2020-04-29  287.730011  1342.180054  177.429993  2372.709961  194.190002\n",
       "\n",
       "[1999 rows x 5 columns]"
      ]
     },
     "execution_count": 8,
     "metadata": {},
     "output_type": "execute_result"
    }
   ],
   "source": [
    "df"
   ]
  },
  {
   "cell_type": "markdown",
   "metadata": {},
   "source": [
    "### Create X, y matrices for regression\n",
    "Use history = number of days before prediction date"
   ]
  },
  {
   "cell_type": "code",
   "execution_count": 9,
   "metadata": {},
   "outputs": [],
   "source": [
    "def create_Xy(df, history=1):\n",
    "    '''df has index as date\n",
    "    columns are stock price of the companies\n",
    "    '''\n",
    "    X, y, dates = [], [], []\n",
    "    for row_idx in range(history, len(df)):\n",
    "        y.append( df.iloc[row_idx,:].values.reshape(-1) )\n",
    "        X.append( df.iloc[row_idx-history:row_idx,:].values.reshape(-1) )\n",
    "        dates.append(df.index[row_idx])\n",
    "    X, y = np.array(X), np.array(y)\n",
    "    return X, y, dates\n",
    "\n",
    "X,y,dates = create_Xy(df, history=5)\n",
    "# use 7/10 of the dataset to train (use past price to predict future price)\n",
    "n_train = len(y) * 2 // 10\n",
    "X_train, y_train, dates_train, X_test, y_test, dates_test = X[:n_train], y[:n_train], dates[:n_train], X[n_train:], y[n_train:], dates[n_train:]"
   ]
  },
  {
   "cell_type": "markdown",
   "metadata": {},
   "source": [
    "### Try to stack two linear layers and use SGD to optimize"
   ]
  },
  {
   "cell_type": "code",
   "execution_count": 10,
   "metadata": {},
   "outputs": [],
   "source": [
    "X_train = (X_train - X_train.mean())/X_train.std()\n",
    "X_test = (X_test - X_test.mean())/X_test.std()\n",
    "y_train = (y_train - y_train.mean())/y_train.std()\n",
    "y_test = (y_test - y_test.mean())/y_test.std()"
   ]
  },
  {
   "cell_type": "code",
   "execution_count": 11,
   "metadata": {},
   "outputs": [],
   "source": [
    "class Model(torch.nn.Module):\n",
    "    def __init__(self,input,output,hidden=[128,256]):\n",
    "        super().__init__()\n",
    "        self.ReLU = nn.ReLU()\n",
    "        self.fc1 = nn.Linear(input, output)\n",
    "    def forward(self, x):\n",
    "        #print(x)\n",
    "        y_pred = self.fc1(x)\n",
    "        return y_pred\n",
    "model = Model(25,5)"
   ]
  },
  {
   "cell_type": "code",
   "execution_count": 12,
   "metadata": {},
   "outputs": [],
   "source": [
    "criterion = torch.nn.MSELoss()\n",
    "optimizer = torch.optim.SGD(model.parameters(), lr=0.001)"
   ]
  },
  {
   "cell_type": "code",
   "execution_count": 13,
   "metadata": {},
   "outputs": [
    {
     "name": "stdout",
     "output_type": "stream",
     "text": [
      "tensor(1.0792, grad_fn=<MseLossBackward>)\n",
      "tensor(1.0579, grad_fn=<MseLossBackward>)\n",
      "tensor(1.0370, grad_fn=<MseLossBackward>)\n",
      "tensor(1.0165, grad_fn=<MseLossBackward>)\n",
      "tensor(0.9964, grad_fn=<MseLossBackward>)\n",
      "tensor(0.9768, grad_fn=<MseLossBackward>)\n",
      "tensor(0.9575, grad_fn=<MseLossBackward>)\n",
      "tensor(0.9386, grad_fn=<MseLossBackward>)\n",
      "tensor(0.9202, grad_fn=<MseLossBackward>)\n",
      "tensor(0.9020, grad_fn=<MseLossBackward>)\n",
      "tensor(0.8843, grad_fn=<MseLossBackward>)\n",
      "tensor(0.8669, grad_fn=<MseLossBackward>)\n",
      "tensor(0.8498, grad_fn=<MseLossBackward>)\n",
      "tensor(0.8331, grad_fn=<MseLossBackward>)\n",
      "tensor(0.8168, grad_fn=<MseLossBackward>)\n",
      "tensor(0.8007, grad_fn=<MseLossBackward>)\n",
      "tensor(0.7850, grad_fn=<MseLossBackward>)\n",
      "tensor(0.7696, grad_fn=<MseLossBackward>)\n",
      "tensor(0.7546, grad_fn=<MseLossBackward>)\n",
      "tensor(0.7398, grad_fn=<MseLossBackward>)\n",
      "tensor(0.7253, grad_fn=<MseLossBackward>)\n",
      "tensor(0.7111, grad_fn=<MseLossBackward>)\n",
      "tensor(0.6972, grad_fn=<MseLossBackward>)\n",
      "tensor(0.6836, grad_fn=<MseLossBackward>)\n",
      "tensor(0.6702, grad_fn=<MseLossBackward>)\n",
      "tensor(0.6571, grad_fn=<MseLossBackward>)\n",
      "tensor(0.6443, grad_fn=<MseLossBackward>)\n",
      "tensor(0.6318, grad_fn=<MseLossBackward>)\n",
      "tensor(0.6195, grad_fn=<MseLossBackward>)\n",
      "tensor(0.6074, grad_fn=<MseLossBackward>)\n",
      "tensor(0.5956, grad_fn=<MseLossBackward>)\n",
      "tensor(0.5840, grad_fn=<MseLossBackward>)\n",
      "tensor(0.5727, grad_fn=<MseLossBackward>)\n",
      "tensor(0.5615, grad_fn=<MseLossBackward>)\n",
      "tensor(0.5507, grad_fn=<MseLossBackward>)\n",
      "tensor(0.5400, grad_fn=<MseLossBackward>)\n",
      "tensor(0.5295, grad_fn=<MseLossBackward>)\n",
      "tensor(0.5193, grad_fn=<MseLossBackward>)\n",
      "tensor(0.5092, grad_fn=<MseLossBackward>)\n",
      "tensor(0.4994, grad_fn=<MseLossBackward>)\n",
      "tensor(0.4898, grad_fn=<MseLossBackward>)\n",
      "tensor(0.4803, grad_fn=<MseLossBackward>)\n",
      "tensor(0.4711, grad_fn=<MseLossBackward>)\n",
      "tensor(0.4620, grad_fn=<MseLossBackward>)\n",
      "tensor(0.4531, grad_fn=<MseLossBackward>)\n",
      "tensor(0.4444, grad_fn=<MseLossBackward>)\n",
      "tensor(0.4359, grad_fn=<MseLossBackward>)\n",
      "tensor(0.4275, grad_fn=<MseLossBackward>)\n",
      "tensor(0.4193, grad_fn=<MseLossBackward>)\n",
      "tensor(0.4113, grad_fn=<MseLossBackward>)\n",
      "tensor(0.4034, grad_fn=<MseLossBackward>)\n",
      "tensor(0.3957, grad_fn=<MseLossBackward>)\n",
      "tensor(0.3882, grad_fn=<MseLossBackward>)\n",
      "tensor(0.3808, grad_fn=<MseLossBackward>)\n",
      "tensor(0.3735, grad_fn=<MseLossBackward>)\n",
      "tensor(0.3664, grad_fn=<MseLossBackward>)\n",
      "tensor(0.3595, grad_fn=<MseLossBackward>)\n",
      "tensor(0.3526, grad_fn=<MseLossBackward>)\n",
      "tensor(0.3460, grad_fn=<MseLossBackward>)\n",
      "tensor(0.3394, grad_fn=<MseLossBackward>)\n",
      "tensor(0.3330, grad_fn=<MseLossBackward>)\n",
      "tensor(0.3267, grad_fn=<MseLossBackward>)\n",
      "tensor(0.3205, grad_fn=<MseLossBackward>)\n",
      "tensor(0.3145, grad_fn=<MseLossBackward>)\n",
      "tensor(0.3086, grad_fn=<MseLossBackward>)\n",
      "tensor(0.3028, grad_fn=<MseLossBackward>)\n",
      "tensor(0.2971, grad_fn=<MseLossBackward>)\n",
      "tensor(0.2915, grad_fn=<MseLossBackward>)\n",
      "tensor(0.2861, grad_fn=<MseLossBackward>)\n",
      "tensor(0.2807, grad_fn=<MseLossBackward>)\n",
      "tensor(0.2755, grad_fn=<MseLossBackward>)\n",
      "tensor(0.2704, grad_fn=<MseLossBackward>)\n",
      "tensor(0.2654, grad_fn=<MseLossBackward>)\n",
      "tensor(0.2604, grad_fn=<MseLossBackward>)\n",
      "tensor(0.2556, grad_fn=<MseLossBackward>)\n",
      "tensor(0.2509, grad_fn=<MseLossBackward>)\n",
      "tensor(0.2462, grad_fn=<MseLossBackward>)\n",
      "tensor(0.2417, grad_fn=<MseLossBackward>)\n",
      "tensor(0.2372, grad_fn=<MseLossBackward>)\n",
      "tensor(0.2329, grad_fn=<MseLossBackward>)\n",
      "tensor(0.2286, grad_fn=<MseLossBackward>)\n",
      "tensor(0.2244, grad_fn=<MseLossBackward>)\n",
      "tensor(0.2203, grad_fn=<MseLossBackward>)\n",
      "tensor(0.2163, grad_fn=<MseLossBackward>)\n",
      "tensor(0.2124, grad_fn=<MseLossBackward>)\n",
      "tensor(0.2085, grad_fn=<MseLossBackward>)\n",
      "tensor(0.2047, grad_fn=<MseLossBackward>)\n",
      "tensor(0.2010, grad_fn=<MseLossBackward>)\n",
      "tensor(0.1974, grad_fn=<MseLossBackward>)\n",
      "tensor(0.1938, grad_fn=<MseLossBackward>)\n",
      "tensor(0.1903, grad_fn=<MseLossBackward>)\n",
      "tensor(0.1869, grad_fn=<MseLossBackward>)\n",
      "tensor(0.1836, grad_fn=<MseLossBackward>)\n",
      "tensor(0.1803, grad_fn=<MseLossBackward>)\n",
      "tensor(0.1771, grad_fn=<MseLossBackward>)\n",
      "tensor(0.1739, grad_fn=<MseLossBackward>)\n",
      "tensor(0.1708, grad_fn=<MseLossBackward>)\n",
      "tensor(0.1678, grad_fn=<MseLossBackward>)\n",
      "tensor(0.1648, grad_fn=<MseLossBackward>)\n",
      "tensor(0.1619, grad_fn=<MseLossBackward>)\n",
      "tensor(0.1591, grad_fn=<MseLossBackward>)\n",
      "tensor(0.1563, grad_fn=<MseLossBackward>)\n",
      "tensor(0.1536, grad_fn=<MseLossBackward>)\n",
      "tensor(0.1509, grad_fn=<MseLossBackward>)\n",
      "tensor(0.1483, grad_fn=<MseLossBackward>)\n",
      "tensor(0.1457, grad_fn=<MseLossBackward>)\n",
      "tensor(0.1432, grad_fn=<MseLossBackward>)\n",
      "tensor(0.1407, grad_fn=<MseLossBackward>)\n",
      "tensor(0.1383, grad_fn=<MseLossBackward>)\n",
      "tensor(0.1359, grad_fn=<MseLossBackward>)\n",
      "tensor(0.1336, grad_fn=<MseLossBackward>)\n",
      "tensor(0.1313, grad_fn=<MseLossBackward>)\n",
      "tensor(0.1291, grad_fn=<MseLossBackward>)\n",
      "tensor(0.1269, grad_fn=<MseLossBackward>)\n",
      "tensor(0.1248, grad_fn=<MseLossBackward>)\n",
      "tensor(0.1227, grad_fn=<MseLossBackward>)\n",
      "tensor(0.1206, grad_fn=<MseLossBackward>)\n",
      "tensor(0.1186, grad_fn=<MseLossBackward>)\n",
      "tensor(0.1166, grad_fn=<MseLossBackward>)\n",
      "tensor(0.1147, grad_fn=<MseLossBackward>)\n",
      "tensor(0.1128, grad_fn=<MseLossBackward>)\n",
      "tensor(0.1109, grad_fn=<MseLossBackward>)\n",
      "tensor(0.1091, grad_fn=<MseLossBackward>)\n",
      "tensor(0.1073, grad_fn=<MseLossBackward>)\n",
      "tensor(0.1056, grad_fn=<MseLossBackward>)\n",
      "tensor(0.1039, grad_fn=<MseLossBackward>)\n",
      "tensor(0.1022, grad_fn=<MseLossBackward>)\n",
      "tensor(0.1005, grad_fn=<MseLossBackward>)\n",
      "tensor(0.0989, grad_fn=<MseLossBackward>)\n",
      "tensor(0.0973, grad_fn=<MseLossBackward>)\n",
      "tensor(0.0958, grad_fn=<MseLossBackward>)\n",
      "tensor(0.0943, grad_fn=<MseLossBackward>)\n",
      "tensor(0.0928, grad_fn=<MseLossBackward>)\n",
      "tensor(0.0913, grad_fn=<MseLossBackward>)\n",
      "tensor(0.0899, grad_fn=<MseLossBackward>)\n",
      "tensor(0.0885, grad_fn=<MseLossBackward>)\n",
      "tensor(0.0871, grad_fn=<MseLossBackward>)\n",
      "tensor(0.0858, grad_fn=<MseLossBackward>)\n",
      "tensor(0.0845, grad_fn=<MseLossBackward>)\n",
      "tensor(0.0832, grad_fn=<MseLossBackward>)\n",
      "tensor(0.0819, grad_fn=<MseLossBackward>)\n",
      "tensor(0.0807, grad_fn=<MseLossBackward>)\n",
      "tensor(0.0795, grad_fn=<MseLossBackward>)\n",
      "tensor(0.0783, grad_fn=<MseLossBackward>)\n",
      "tensor(0.0771, grad_fn=<MseLossBackward>)\n",
      "tensor(0.0760, grad_fn=<MseLossBackward>)\n",
      "tensor(0.0748, grad_fn=<MseLossBackward>)\n",
      "tensor(0.0738, grad_fn=<MseLossBackward>)\n",
      "tensor(0.0727, grad_fn=<MseLossBackward>)\n",
      "tensor(0.0716, grad_fn=<MseLossBackward>)\n",
      "tensor(0.0706, grad_fn=<MseLossBackward>)\n",
      "tensor(0.0696, grad_fn=<MseLossBackward>)\n",
      "tensor(0.0686, grad_fn=<MseLossBackward>)\n",
      "tensor(0.0676, grad_fn=<MseLossBackward>)\n",
      "tensor(0.0667, grad_fn=<MseLossBackward>)\n",
      "tensor(0.0657, grad_fn=<MseLossBackward>)\n",
      "tensor(0.0648, grad_fn=<MseLossBackward>)\n",
      "tensor(0.0639, grad_fn=<MseLossBackward>)\n",
      "tensor(0.0630, grad_fn=<MseLossBackward>)\n",
      "tensor(0.0622, grad_fn=<MseLossBackward>)\n",
      "tensor(0.0613, grad_fn=<MseLossBackward>)\n",
      "tensor(0.0605, grad_fn=<MseLossBackward>)\n",
      "tensor(0.0597, grad_fn=<MseLossBackward>)\n",
      "tensor(0.0589, grad_fn=<MseLossBackward>)\n",
      "tensor(0.0581, grad_fn=<MseLossBackward>)\n",
      "tensor(0.0574, grad_fn=<MseLossBackward>)\n",
      "tensor(0.0566, grad_fn=<MseLossBackward>)\n",
      "tensor(0.0559, grad_fn=<MseLossBackward>)\n",
      "tensor(0.0552, grad_fn=<MseLossBackward>)\n",
      "tensor(0.0544, grad_fn=<MseLossBackward>)\n",
      "tensor(0.0538, grad_fn=<MseLossBackward>)\n",
      "tensor(0.0531, grad_fn=<MseLossBackward>)\n",
      "tensor(0.0524, grad_fn=<MseLossBackward>)\n",
      "tensor(0.0518, grad_fn=<MseLossBackward>)\n",
      "tensor(0.0511, grad_fn=<MseLossBackward>)\n",
      "tensor(0.0505, grad_fn=<MseLossBackward>)\n",
      "tensor(0.0499, grad_fn=<MseLossBackward>)\n",
      "tensor(0.0493, grad_fn=<MseLossBackward>)\n",
      "tensor(0.0487, grad_fn=<MseLossBackward>)\n",
      "tensor(0.0481, grad_fn=<MseLossBackward>)\n",
      "tensor(0.0476, grad_fn=<MseLossBackward>)\n",
      "tensor(0.0470, grad_fn=<MseLossBackward>)\n",
      "tensor(0.0465, grad_fn=<MseLossBackward>)\n",
      "tensor(0.0459, grad_fn=<MseLossBackward>)\n",
      "tensor(0.0454, grad_fn=<MseLossBackward>)\n",
      "tensor(0.0449, grad_fn=<MseLossBackward>)\n",
      "tensor(0.0444, grad_fn=<MseLossBackward>)\n",
      "tensor(0.0439, grad_fn=<MseLossBackward>)\n",
      "tensor(0.0434, grad_fn=<MseLossBackward>)\n",
      "tensor(0.0430, grad_fn=<MseLossBackward>)\n",
      "tensor(0.0425, grad_fn=<MseLossBackward>)\n",
      "tensor(0.0421, grad_fn=<MseLossBackward>)\n",
      "tensor(0.0416, grad_fn=<MseLossBackward>)\n",
      "tensor(0.0412, grad_fn=<MseLossBackward>)\n",
      "tensor(0.0407, grad_fn=<MseLossBackward>)\n",
      "tensor(0.0403, grad_fn=<MseLossBackward>)\n",
      "tensor(0.0399, grad_fn=<MseLossBackward>)\n",
      "tensor(0.0395, grad_fn=<MseLossBackward>)\n",
      "tensor(0.0391, grad_fn=<MseLossBackward>)\n",
      "tensor(0.0387, grad_fn=<MseLossBackward>)\n"
     ]
    }
   ],
   "source": [
    "#X_train, y_train, X_test, y_test = [torch.from_numpy(dataset).float for dataset in [X_train, y_train, X_test, y_test]]\n",
    "from torch.autograd import Variable\n",
    "X_train_ = Variable(torch.Tensor([X_train]))\n",
    "y_train_ = Variable(torch.Tensor([y_train]))\n",
    "X_test_ = Variable(torch.Tensor([X_test]))\n",
    "y_test_ = Variable(torch.Tensor([y_test]))\n",
    "for epoch in range(200):\n",
    "    model.train()\n",
    "    optimizer.zero_grad()\n",
    "    # Forward pass\n",
    "    y_pred = model(X_train_)\n",
    "    # Compute Loss\n",
    "    loss = criterion(y_pred, y_train_)\n",
    "    print(loss)\n",
    "    # Backward pass\n",
    "    loss.backward()\n",
    "    optimizer.step()"
   ]
  },
  {
   "cell_type": "code",
   "execution_count": 14,
   "metadata": {},
   "outputs": [
    {
     "name": "stdout",
     "output_type": "stream",
     "text": [
      "tensor(0.3077, grad_fn=<MseLossBackward>)\n"
     ]
    }
   ],
   "source": [
    "y_pred = model(X_test_)\n",
    "print (criterion(y_pred, y_test_))"
   ]
  },
  {
   "cell_type": "code",
   "execution_count": 15,
   "metadata": {},
   "outputs": [
    {
     "data": {
      "text/plain": [
       "torch.Size([1, 1596, 5])"
      ]
     },
     "execution_count": 15,
     "metadata": {},
     "output_type": "execute_result"
    }
   ],
   "source": [
    "y_test_.size()"
   ]
  },
  {
   "cell_type": "markdown",
   "metadata": {},
   "source": [
    "### Create a Linear Regression Model to predict stock price"
   ]
  },
  {
   "cell_type": "code",
   "execution_count": 16,
   "metadata": {},
   "outputs": [],
   "source": [
    "clf = LinearRegression()\n",
    "clf.fit(X_train, y_train)\n",
    "ypred = clf.predict(X_test)"
   ]
  },
  {
   "cell_type": "code",
   "execution_count": 17,
   "metadata": {},
   "outputs": [
    {
     "data": {
      "text/plain": [
       "0.0019448134692688385"
      ]
     },
     "execution_count": 17,
     "metadata": {},
     "output_type": "execute_result"
    }
   ],
   "source": [
    "mean_squared_error(ypred,y_test) "
   ]
  },
  {
   "cell_type": "markdown",
   "metadata": {},
   "source": [
    "### Investigate in relation amongst stock price of 5 companies"
   ]
  },
  {
   "cell_type": "code",
   "execution_count": 18,
   "metadata": {},
   "outputs": [
    {
     "data": {
      "text/plain": [
       "Text(0, 0.5, 'AMZN')"
      ]
     },
     "execution_count": 18,
     "metadata": {},
     "output_type": "execute_result"
    },
    {
     "data": {
      "image/png": "[encoded data removed]",
      "text/plain": [
       "<Figure size 432x288 with 1 Axes>"
      ]
     },
     "metadata": {
      "needs_background": "light"
     },
     "output_type": "display_data"
    }
   ],
   "source": [
    "pct = df.pct_change()\n",
    "plt.scatter(pct.AAPL, pct.GOOGL)\n",
    "plt.xlabel('AAPL')\n",
    "plt.ylabel('AMZN')"
   ]
  },
  {
   "cell_type": "code",
   "execution_count": 19,
   "metadata": {},
   "outputs": [
    {
     "data": {
      "text/html": [
       "<div>\n",
       "<style scoped>\n",
       "    .dataframe tbody tr th:only-of-type {\n",
       "        vertical-align: middle;\n",
       "    }\n",
       "\n",
       "    .dataframe tbody tr th {\n",
       "        vertical-align: top;\n",
       "    }\n",
       "\n",
       "    .dataframe thead th {\n",
       "        text-align: right;\n",
       "    }\n",
       "</style>\n",
       "<table border=\"1\" class=\"dataframe\">\n",
       "  <thead>\n",
       "    <tr style=\"text-align: right;\">\n",
       "      <th></th>\n",
       "      <th>AAPL</th>\n",
       "      <th>GOOGL</th>\n",
       "      <th>MSFT</th>\n",
       "      <th>AMZN</th>\n",
       "      <th>FB</th>\n",
       "    </tr>\n",
       "  </thead>\n",
       "  <tbody>\n",
       "    <tr>\n",
       "      <th>AAPL</th>\n",
       "      <td>1.000000</td>\n",
       "      <td>0.519106</td>\n",
       "      <td>0.551098</td>\n",
       "      <td>0.419733</td>\n",
       "      <td>0.366184</td>\n",
       "    </tr>\n",
       "    <tr>\n",
       "      <th>GOOGL</th>\n",
       "      <td>0.519106</td>\n",
       "      <td>1.000000</td>\n",
       "      <td>0.634554</td>\n",
       "      <td>0.597365</td>\n",
       "      <td>0.482885</td>\n",
       "    </tr>\n",
       "    <tr>\n",
       "      <th>MSFT</th>\n",
       "      <td>0.551098</td>\n",
       "      <td>0.634554</td>\n",
       "      <td>1.000000</td>\n",
       "      <td>0.534474</td>\n",
       "      <td>0.396318</td>\n",
       "    </tr>\n",
       "    <tr>\n",
       "      <th>AMZN</th>\n",
       "      <td>0.419733</td>\n",
       "      <td>0.597365</td>\n",
       "      <td>0.534474</td>\n",
       "      <td>1.000000</td>\n",
       "      <td>0.427496</td>\n",
       "    </tr>\n",
       "    <tr>\n",
       "      <th>FB</th>\n",
       "      <td>0.366184</td>\n",
       "      <td>0.482885</td>\n",
       "      <td>0.396318</td>\n",
       "      <td>0.427496</td>\n",
       "      <td>1.000000</td>\n",
       "    </tr>\n",
       "  </tbody>\n",
       "</table>\n",
       "</div>"
      ],
      "text/plain": [
       "           AAPL     GOOGL      MSFT      AMZN        FB\n",
       "AAPL   1.000000  0.519106  0.551098  0.419733  0.366184\n",
       "GOOGL  0.519106  1.000000  0.634554  0.597365  0.482885\n",
       "MSFT   0.551098  0.634554  1.000000  0.534474  0.396318\n",
       "AMZN   0.419733  0.597365  0.534474  1.000000  0.427496\n",
       "FB     0.366184  0.482885  0.396318  0.427496  1.000000"
      ]
     },
     "execution_count": 19,
     "metadata": {},
     "output_type": "execute_result"
    }
   ],
   "source": [
    "pct.corr()"
   ]
  },
  {
   "cell_type": "code",
   "execution_count": 20,
   "metadata": {},
   "outputs": [
    {
     "data": {
      "text/plain": [
       "<matplotlib.axes._subplots.AxesSubplot at 0x1726d00feb8>"
      ]
     },
     "execution_count": 20,
     "metadata": {},
     "output_type": "execute_result"
    },
    {
     "data": {
      "image/png": "[encoded data removed]",
      "text/plain": [
       "<Figure size 432x288 with 2 Axes>"
      ]
     },
     "metadata": {
      "needs_background": "light"
     },
     "output_type": "display_data"
    }
   ],
   "source": [
    "import seaborn as sns \n",
    "corr = df.corr()\n",
    "sns.heatmap(corr, annot=True, cmap='hot')"
   ]
  },
  {
   "cell_type": "markdown",
   "metadata": {},
   "source": [
    "# Exercise\n",
    "1. Play with the above code to get familiar with stock price data and ways to create training data ( X = past stock price, y = future stock price )\n",
    "2. Investigate if stock price of Big 5 companies are related to each other ( “FAAMG”—Facebook, Amazon, Apple, Microsoft, and Google )\n",
    "3. Determine the features that could predict future stock price ( stock price from Yahoo Finance could be considered as raw features, create new features if needed )\n",
    "4. Build a linear regression model to predict future stock price\n",
    "5. Evaluate your model performance"
   ]
  },
  {
   "cell_type": "code",
   "execution_count": null,
   "metadata": {},
   "outputs": [],
   "source": []
  }
 ],
 "metadata": {
  "kernelspec": {
   "display_name": "Python 3",
   "language": "python",
   "name": "python3"
  },
  "language_info": {
   "codemirror_mode": {
    "name": "ipython",
    "version": 3
   },
   "file_extension": ".py",
   "mimetype": "text/x-python",
   "name": "python",
   "nbconvert_exporter": "python",
   "pygments_lexer": "ipython3",
   "version": "3.7.3"
  }
 },
 "nbformat": 4,
 "nbformat_minor": 4
}
